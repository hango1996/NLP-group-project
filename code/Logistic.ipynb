{
 "cells": [
  {
   "cell_type": "code",
   "execution_count": 6,
   "metadata": {},
   "outputs": [],
   "source": [
    "import numpy as np\n",
    "import pandas as pd \n",
    "from sklearn import feature_extraction, linear_model, model_selection, preprocessing, metrics\n",
    "import sklearn\n",
    "import os\n",
    "import sys\n",
    "\n",
    "import sklearn\n",
    "from sklearn.metrics.classification import precision_score\n",
    "\n"
   ]
  },
  {
   "cell_type": "code",
   "execution_count": 26,
   "metadata": {},
   "outputs": [],
   "source": [
    "class ClassificationReport(): \n",
    "\n",
    "    def __init__(self, train_data, test_data):\n",
    "        self.X_train, self.y_train = train_data\n",
    "        self.X_test,  self.y_test  = test_data\n",
    "\n",
    "        self.train_precision_score  = []\n",
    "        self.train_f1_score         = []\n",
    "        self.train_recall_score     = [] \n",
    "\n",
    "        self.test_preision_score    = []\n",
    "        self.test_f1_score          = []\n",
    "        self.test_recal_score       = []\n",
    "\n",
    "\n",
    "    def report(self, model):\n",
    "        prediction_train = model.predict(self.X_train)\n",
    "        self.train_precision_score = metrics.precision_score(self.y_train, prediction_train, average = 'binary')\n",
    "        self.train_f1_score        = metrics.f1_score(self.y_train, prediction_train, average = 'binary')\n",
    "        self.train_recall_score    = metrics.recall_score(self.y_train, prediction_train, average = 'binary')\n",
    "\n",
    "        prediction_test = model.predict(self.X_test)\n",
    "        self.test_precision_score  = metrics.precision_score(self.y_test, prediction_test, average = 'binary')\n",
    "        self.test_f1_score         = metrics.f1_score(self.y_test, prediction_test, average = 'binary')\n",
    "        self.test_recall_score     = metrics.recall_score(self.y_test, prediction_test, average = 'binary')\n",
    "\n",
    "        print(\"Training data f1_score: {:.4}, precision_score: {:.4}, recall_score: {:.4}\".format(self.train_precision_score, self.train_f1_score, self.train_recall_score))\n",
    "        print(\"Testing data  f1_score: {:.4}, precision_score: {:.4}, recall_score: {:.4}\".format(self.test_precision_score, self.test_f1_score, self.test_recall_score))\n",
    "\n"
   ]
  },
  {
   "cell_type": "code",
   "execution_count": 10,
   "metadata": {},
   "outputs": [],
   "source": [
    "class LogisticModel():\n",
    "\n",
    "    def __init__(self, X_data, y_data):\n",
    "        #divide up the training data into training set and validation set \n",
    "        self.X_train, self.X_test, self.y_train, self.y_test = model_selection.train_test_split(X_data, y_data, test_size = 0.2, random_state = 1)\n",
    "\n",
    "    def build_model(self):\n",
    "        clf = linear_model.LogisticRegression(random_state=0).fit(self.X_train, self.y_train)\n",
    "        Metrics_logis = ClassificationReport((self.X_train, self.y_train), (self.X_test, self.y_test))\n",
    "        Metrics_logis.report(clf)\n"
   ]
  },
  {
   "cell_type": "code",
   "execution_count": 12,
   "metadata": {},
   "outputs": [],
   "source": [
    "train_df = pd.read_csv(\"../data/train.csv\")\n",
    "test_df  = pd.read_csv(\"../data/test.csv\")\n",
    "\n",
    "vectorizer = feature_extraction.text.CountVectorizer()\n",
    "train_x = vectorizer.fit_transform(train_df[\"text\"]).toarray()\n",
    "test_x = vectorizer.transform(test_df[\"text\"]).toarray()"
   ]
  },
  {
   "cell_type": "code",
   "execution_count": 27,
   "metadata": {},
   "outputs": [],
   "source": [
    "Model_logic = LogisticModel(train_x, train_df[\"target\"])\n",
    "\n"
   ]
  },
  {
   "cell_type": "code",
   "execution_count": 25,
   "metadata": {},
   "outputs": [
    {
     "output_type": "stream",
     "name": "stdout",
     "text": [
      "Training data precision_score: 0.990044, f1_score: 0.967127, recall_score: 0.945247\nTesting data precision_score : 0.804745, f1_score: 0.7418, recall_score: 0.687988\n"
     ]
    }
   ],
   "source": [
    "Model_logic.build_model()"
   ]
  }
 ],
 "metadata": {
  "language_info": {
   "codemirror_mode": {
    "name": "ipython",
    "version": 2
   },
   "file_extension": ".py",
   "mimetype": "text/x-python",
   "name": "python",
   "nbconvert_exporter": "python",
   "pygments_lexer": "ipython2",
   "version": "3.7.4-final"
  },
  "orig_nbformat": 2,
  "kernelspec": {
   "name": "python3",
   "display_name": "Python 3"
  }
 },
 "nbformat": 4,
 "nbformat_minor": 2
}